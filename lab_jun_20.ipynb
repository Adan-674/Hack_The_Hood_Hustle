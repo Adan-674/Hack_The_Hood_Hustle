{
  "nbformat": 4,
  "nbformat_minor": 0,
  "metadata": {
    "colab": {
      "provenance": [],
      "authorship_tag": "ABX9TyP4wvKvEXsJKsbhhlfMTjqd",
      "include_colab_link": true
    },
    "kernelspec": {
      "name": "python3",
      "display_name": "Python 3"
    },
    "language_info": {
      "name": "python"
    }
  },
  "cells": [
    {
      "cell_type": "markdown",
      "metadata": {
        "id": "view-in-github",
        "colab_type": "text"
      },
      "source": [
        "<a href=\"https://colab.research.google.com/github/Adan-674/Hack_The_Hood_Hustle/blob/main/lab_jun_20.ipynb\" target=\"_parent\"><img src=\"https://colab.research.google.com/assets/colab-badge.svg\" alt=\"Open In Colab\"/></a>"
      ]
    },
    {
      "cell_type": "markdown",
      "source": [
        "# lab jun. 20\n",
        "# intro to pseudo code\n",
        "# rules to define variables\n",
        "1) Must start with a Letter or _Underscore\n",
        "\n",
        "2) Consists of Letters, Numbers and Underscores But it will not starts with a Number\n",
        "\n",
        "3) Variable names are case sensitiv"
      ],
      "metadata": {
        "id": "os4lgkUcMBcL"
      }
    },
    {
      "cell_type": "code",
      "source": [
        "car = \"Mercedes\"\n",
        "Car = \"Audi\""
      ],
      "metadata": {
        "id": "8rtvitpFMeyU"
      },
      "execution_count": 2,
      "outputs": []
    },
    {
      "cell_type": "code",
      "source": [
        "print(car)"
      ],
      "metadata": {
        "id": "0PUT7CRXQHh5"
      },
      "execution_count": null,
      "outputs": []
    },
    {
      "cell_type": "markdown",
      "source": [
        "### Psuedo code for my application\n",
        "I want to write a program that takes user input and prints it back to the screen.\n",
        "\n",
        "`First_name` the user's first name\n",
        "\n",
        "`Last_Name` the user's last name\n",
        "\n",
        "`Age` the user's age\n",
        "\n",
        "`Fav_Colour` the user's favourite colour\n",
        "\n",
        "`Fav_Sport` the user's favourite sport\n",
        "\n",
        "`Fav_Team` the user's favourite team\n",
        "use a 'built-in' process to take user's data.\n",
        "use a 'built-in' process to display user's data."
      ],
      "metadata": {
        "id": "T7IzYoh1OtDZ"
      }
    },
    {
      "cell_type": "markdown",
      "source": [
        "#code for my application"
      ],
      "metadata": {
        "id": "1gzyaW5HQSPX"
      }
    },
    {
      "cell_type": "code",
      "source": [
        "First_name = \"Adan\"\n",
        "Last_Name = \"Amezcua\"\n",
        "Age = 15\n",
        "Fav_Colour = \"green\"\n",
        "Fav_Sport = \"wrestling\"\n",
        "Fav_Team = \"radiers\""
      ],
      "metadata": {
        "id": "UKprJCrcQakz"
      },
      "execution_count": 4,
      "outputs": []
    },
    {
      "cell_type": "code",
      "source": [
        "print(First_name)\n",
        "print(Last_Name)\n",
        "print(Age)\n",
        "print(Fav_Colour)\n",
        "print(Fav_Sport)\n",
        "print(Fav_Team)"
      ],
      "metadata": {
        "colab": {
          "base_uri": "https://localhost:8080/"
        },
        "id": "1N6XQ4d1RHDA",
        "outputId": "5c4d9f4b-1bb7-465f-9727-11ee41c265b6"
      },
      "execution_count": 5,
      "outputs": [
        {
          "output_type": "stream",
          "name": "stdout",
          "text": [
            "Adan\n",
            "Amezcua\n",
            "15\n",
            "green\n",
            "wrestling\n",
            "radiers\n"
          ]
        }
      ]
    },
    {
      "cell_type": "code",
      "source": [
        "First_name = input('What is your first name?')"
      ],
      "metadata": {
        "colab": {
          "base_uri": "https://localhost:8080/"
        },
        "id": "3Q3NapIqRk8a",
        "outputId": "a613b55b-c17e-4f9d-89e5-39056da5dd3c"
      },
      "execution_count": 6,
      "outputs": [
        {
          "name": "stdout",
          "output_type": "stream",
          "text": [
            "What is your first name?Adan\n"
          ]
        }
      ]
    },
    {
      "cell_type": "code",
      "source": [
        "First_name = input('What is your first name? ')\n",
        "# In this line I am using the input method to ask the user's first name\n",
        "\n",
        "Last_Name = input('What is your last name? ')\n",
        "# In this line I am using the input method to ask the user's last name\n",
        "\n",
        "Age = input('What is your age? ')\n",
        "# this line is asking for the users age\n",
        "\n",
        "Fav_Colour = input('What is your favourite colour? ')\n",
        "#this line is asking for the users fav sports team\n",
        "\n",
        "Fav_Sport = input('What is your favourite sport? ')\n",
        "# this line is asking for the users fav sport\n",
        "\n",
        "Fav_Team = input('What is your favourite team? ')\n",
        "# this line is asking for the users fav sports team"
      ],
      "metadata": {
        "colab": {
          "base_uri": "https://localhost:8080/"
        },
        "id": "EcF5kBdMUBNJ",
        "outputId": "0390c9ad-2955-4070-dd3b-b48e212692d9"
      },
      "execution_count": 7,
      "outputs": [
        {
          "name": "stdout",
          "output_type": "stream",
          "text": [
            "What is your first name?  adan \n",
            "What is your last name? Amrzcua \n",
            "What is your age? 15\n",
            "What is your favourite colour? green\n",
            "What is your favourite sport? football\n",
            "What is your favourite team? raiders \n"
          ]
        }
      ]
    },
    {
      "cell_type": "code",
      "source": [
        "print(First_name)\n",
        "print(Last_Name)\n",
        "print(Age)\n",
        "print(Fav_Colour)\n",
        "print(Fav_Sport)\n",
        "print(Fav_Team)"
      ],
      "metadata": {
        "colab": {
          "base_uri": "https://localhost:8080/"
        },
        "id": "DmecoG1-VwI5",
        "outputId": "c8bd5740-a364-447f-cfb7-479c31a1819e"
      },
      "execution_count": 8,
      "outputs": [
        {
          "output_type": "stream",
          "name": "stdout",
          "text": [
            " adan \n",
            "Amrzcua \n",
            "15\n",
            "green\n",
            "football\n",
            "raiders \n"
          ]
        }
      ]
    },
    {
      "cell_type": "markdown",
      "source": [
        "#f string formating"
      ],
      "metadata": {
        "id": "e8_1KCZhWxUU"
      }
    },
    {
      "cell_type": "code",
      "source": [
        "greetings = 'hello'\n",
        "name = \"adan\""
      ],
      "metadata": {
        "id": "qhD-xxfeV_tB"
      },
      "execution_count": 9,
      "outputs": []
    },
    {
      "cell_type": "code",
      "source": [
        "print(\"hello there, adan\")"
      ],
      "metadata": {
        "colab": {
          "base_uri": "https://localhost:8080/"
        },
        "id": "0ErbsgG1WJUn",
        "outputId": "e8f17d86-bd8d-40e2-fd95-28b972e239f5"
      },
      "execution_count": 10,
      "outputs": [
        {
          "output_type": "stream",
          "name": "stdout",
          "text": [
            "hello there, adan\n"
          ]
        }
      ]
    },
    {
      "cell_type": "code",
      "source": [
        "print(f\"{greetings} there, {name}\")"
      ],
      "metadata": {
        "colab": {
          "base_uri": "https://localhost:8080/"
        },
        "id": "TgyUTqKyWQNF",
        "outputId": "cd63ea22-3c21-4eb7-d27d-0ac54ee76592"
      },
      "execution_count": 11,
      "outputs": [
        {
          "output_type": "stream",
          "name": "stdout",
          "text": [
            "hello there, adan\n"
          ]
        }
      ]
    },
    {
      "cell_type": "code",
      "source": [
        "print(f\"User first name is, {First_name}, last name is, {Last_Name}, age is, {Age},\\\n",
        " favourite colour is, {Fav_Colour}, favourite sport is, {Fav_Sport}, favourite team is, {Fav_Team}\")\n",
        "# i am using the f string to make sentaces and have multiple variables in a line"
      ],
      "metadata": {
        "colab": {
          "base_uri": "https://localhost:8080/"
        },
        "id": "sdBctT6gW1LC",
        "outputId": "dcf9bc43-bca2-4740-fcb1-8118c68026a2"
      },
      "execution_count": 12,
      "outputs": [
        {
          "output_type": "stream",
          "name": "stdout",
          "text": [
            "User first name is,  adan , last name is, Amrzcua , age is, 15, favourite colour is, green, favourite sport is, football, favourite team is, raiders \n"
          ]
        }
      ]
    }
  ]
}