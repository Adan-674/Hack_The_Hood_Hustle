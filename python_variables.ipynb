{
  "nbformat": 4,
  "nbformat_minor": 0,
  "metadata": {
    "colab": {
      "provenance": [],
      "include_colab_link": true
    },
    "kernelspec": {
      "name": "python3",
      "display_name": "Python 3"
    },
    "language_info": {
      "name": "python"
    }
  },
  "cells": [
    {
      "cell_type": "markdown",
      "metadata": {
        "id": "view-in-github",
        "colab_type": "text"
      },
      "source": [
        "<a href=\"https://colab.research.google.com/github/Adan-674/Hack_The_Hood_Hustle/blob/main/python_variables.ipynb\" target=\"_parent\"><img src=\"https://colab.research.google.com/assets/colab-badge.svg\" alt=\"Open In Colab\"/></a>"
      ]
    },
    {
      "cell_type": "code",
      "execution_count": 22,
      "metadata": {
        "colab": {
          "base_uri": "https://localhost:8080/"
        },
        "id": "46l53Aisb7y7",
        "outputId": "1ec523c9-617c-425f-976c-7eb4e93b208d"
      },
      "outputs": [
        {
          "output_type": "stream",
          "name": "stdout",
          "text": [
            "this is my full name adan_amezcua\n",
            "i am 15\n",
            "i have used pyhton before False\n",
            "i also really like to ['cook', 'wrestle', 'bike']\n",
            "for 7 years ive been in football\n",
            "adanamez17@gmail.com\n",
            "this is my emial address adanamez17@gmail.com\n",
            "your username will be adan\n",
            "welcome adan_amezcua\n",
            "lets start coding!\n"
          ]
        }
      ],
      "source": [
        "## To do lab: File > Save a copy to drive > Edit title\n",
        "\n",
        "### EXERCISE 1\n",
        "\n",
        "# Step 1: Create a Variable for Your Name\n",
        "# In your main.py file, create a variable and assign it a string\n",
        "#value that holds your first and last name.\n",
        "\n",
        "full_name = \"adan_amezcua\"\n",
        "\n",
        "# Step 2: Create a Nickname Variable\n",
        "# Create another variable that holds your favorite nickname or preferred name.\n",
        "\n",
        "nickname = \"adan\"\n",
        "\n",
        "# Step 3: Define Your Age\n",
        "# Create a variable that represents your age using a numeric data type.\n",
        "\n",
        "age = 15\n",
        "\n",
        "# Step 4: Have You Used Python Before?\n",
        "# Create a variable using the boolean data type to answer the question:\n",
        "# \"Have you used Python before?\"\n",
        "# Use True for \"yes\" or False for \"no.\"\n",
        "\n",
        "used_python_before = False\n",
        "\n",
        "# Step 5: List Your Favorite Hobbies\n",
        "# Create a variable that is a list containing your favorite hobbies.\n",
        "# eg: hobbies = [\"coding\", \"basketball\", \"reading\"]\n",
        "# Make sure to type it out, do not copy and paste\n",
        "\n",
        "hobbies_1 = [\"cook\", \"wrestle\",\"bike\"]\n",
        "hobbies_2 = \"football\"\n",
        "\n",
        "## Complete Print Statements:\n",
        "\n",
        "\n",
        "# Print the nickname, age, and used_python_before variables\n",
        "# eg: print(\"Full Name\":, full_name)\n",
        "print(\"this is my full name\",full_name)\n",
        "print(\"i am\",age)\n",
        "print(\"i have used pyhton before\",False)\n",
        "\n",
        "\n",
        "# Print hobbies list\n",
        "print(\"i also really like to\",hobbies_1)\n",
        "print(\"for 7 years ive been in\", hobbies_2)\n",
        "\n",
        "\n",
        "\n",
        "\n",
        "#------------------------------------------------------------------------------#\n",
        "\n",
        "\n",
        "### EXERCISE 2\n",
        "\n",
        "# Let's pretend we are signing up for a program.\n",
        "# We need to assign the following values, and then welcome our new user.\n",
        "\n",
        "# Assign your full name\n",
        "\n",
        "full_name = \"adan_amezcua\"\n",
        "\n",
        "# Assign your email address\n",
        "email_address = \"adanamez17@gmail.com\"\n",
        "\n",
        "# Assign your desired username\n",
        "desired_username = \"adan\"\n",
        "\n",
        "# Print yor email\n",
        "print(email_address)\n",
        "# print(\"Your email is: \" + email)\n",
        "print(\"this is my emial address\", email_address)\n",
        "\n",
        "### Now you try!\n",
        "# Print a statement that will complete this message:\n",
        "# \"Your username is ____ \"\n",
        "print(\"your username will be\", desired_username)\n",
        "### Print a welcome message:\n",
        "# \"Welcome [insert full name here], let's start coding!\"\n",
        "print(\"welcome\",full_name)\n",
        "print(\"lets start coding!\")\n",
        "\n",
        "\n"
      ]
    },
    {
      "cell_type": "code",
      "source": [],
      "metadata": {
        "id": "DlXZ7DbgeaB5"
      },
      "execution_count": null,
      "outputs": []
    }
  ]
}